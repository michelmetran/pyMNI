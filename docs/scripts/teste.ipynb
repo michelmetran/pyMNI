{
 "cells": [
  {
   "metadata": {},
   "cell_type": "markdown",
   "source": "Inicialmente importamos a biblioteca.",
   "id": "94f4bc333b2a0b97"
  },
  {
   "cell_type": "code",
   "id": "initial_id",
   "metadata": {
    "collapsed": true,
    "ExecuteTime": {
     "end_time": "2025-03-24T21:17:16.101475Z",
     "start_time": "2025-03-24T21:17:15.241029Z"
    }
   },
   "source": [
    "import os\n",
    "\n",
    "from dotenv import load_dotenv\n",
    "\n",
    "import mni"
   ],
   "outputs": [],
   "execution_count": 1
  },
  {
   "metadata": {},
   "cell_type": "markdown",
   "source": [
    "<br>\n",
    "\n",
    "---\n",
    "\n",
    "## Credenciais\n",
    "\n",
    "As credenciais necessárias para usar o MNI são obtidas em um arquivo `.env`, com o seguinte conteúdo:\n",
    "\n",
    "```shell\n",
    "TJSP_MNI_USERNAME = '****************'\n",
    "TJSP_MNI_PASSWORD = '****************'\n",
    "```\n",
    "\n",
    "<br>\n",
    "\n",
    "É possível também passar as credenciais diretamente na chamada do método.\n"
   ],
   "id": "a191c3d881939722"
  },
  {
   "metadata": {
    "ExecuteTime": {
     "end_time": "2025-03-24T21:17:16.112481Z",
     "start_time": "2025-03-24T21:17:16.107482Z"
    }
   },
   "cell_type": "code",
   "source": [
    "# Credenciais\n",
    "load_dotenv()\n",
    "TJSP_MNI_USERNAME = os.getenv('TJSP_MNI_USERNAME')\n",
    "TJSP_MNI_PASSWORD = os.getenv('TJSP_MNI_PASSWORD')"
   ],
   "id": "21e8c5237cc6c811",
   "outputs": [],
   "execution_count": 2
  }
 ],
 "metadata": {
  "kernelspec": {
   "display_name": "Python 3",
   "language": "python",
   "name": "python3"
  },
  "language_info": {
   "codemirror_mode": {
    "name": "ipython",
    "version": 2
   },
   "file_extension": ".py",
   "mimetype": "text/x-python",
   "name": "python",
   "nbconvert_exporter": "python",
   "pygments_lexer": "ipython2",
   "version": "2.7.6"
  }
 },
 "nbformat": 4,
 "nbformat_minor": 5
}
