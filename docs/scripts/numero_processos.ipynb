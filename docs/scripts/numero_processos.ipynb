{
 "cells": [
  {
   "cell_type": "markdown",
   "metadata": {},
   "source": "Inicialmente importamos a biblioteca."
  },
  {
   "metadata": {
    "ExecuteTime": {
     "end_time": "2025-03-24T18:42:42.934685Z",
     "start_time": "2025-03-24T18:42:41.920050Z"
    }
   },
   "cell_type": "code",
   "source": "import mni",
   "outputs": [],
   "execution_count": 2
  },
  {
   "metadata": {},
   "cell_type": "markdown",
   "source": [
    "<br>\n",
    "\n",
    "\n",
    "E instanciamos o objeto `NumeroProcesso`. É possível passar uma _string_ ou um _integer_ com o número do processos."
   ]
  },
  {
   "cell_type": "code",
   "metadata": {
    "ExecuteTime": {
     "end_time": "2025-03-24T18:42:42.957101Z",
     "start_time": "2025-03-24T18:42:42.948571Z"
    }
   },
   "source": [
    "num = mni.NumeroProcesso(numero='1512315-89.2022.8.26.0268')\n",
    "num"
   ],
   "outputs": [
    {
     "data": {
      "text/plain": [
       "Processo Judicial nº \"1512315-89.2022.8.26.0268\""
      ]
     },
     "execution_count": 3,
     "metadata": {},
     "output_type": "execute_result"
    }
   ],
   "execution_count": 3
  },
  {
   "metadata": {},
   "cell_type": "markdown",
   "source": [
    "<br>\n",
    "\n",
    "-----\n",
    "\n",
    "## Atributos\n",
    "\n",
    "Uma vez instanciado, existem vários atributos do número do processo."
   ]
  },
  {
   "metadata": {
    "ExecuteTime": {
     "end_time": "2025-03-24T18:42:43.025505Z",
     "start_time": "2025-03-24T18:42:43.017992Z"
    }
   },
   "cell_type": "code",
   "source": "num.numero",
   "outputs": [
    {
     "data": {
      "text/plain": [
       "'15123158920228260268'"
      ]
     },
     "execution_count": 4,
     "metadata": {},
     "output_type": "execute_result"
    }
   ],
   "execution_count": 4
  },
  {
   "metadata": {
    "ExecuteTime": {
     "end_time": "2025-03-24T18:42:43.070395Z",
     "start_time": "2025-03-24T18:42:43.064195Z"
    }
   },
   "cell_type": "code",
   "source": "num.texto",
   "outputs": [
    {
     "data": {
      "text/plain": [
       "'15123158920228260268'"
      ]
     },
     "execution_count": 5,
     "metadata": {},
     "output_type": "execute_result"
    }
   ],
   "execution_count": 5
  },
  {
   "metadata": {
    "ExecuteTime": {
     "end_time": "2025-03-24T18:42:43.129542Z",
     "start_time": "2025-03-24T18:42:43.122958Z"
    }
   },
   "cell_type": "code",
   "source": "num.orgao",
   "outputs": [
    {
     "data": {
      "text/plain": [
       "'Justiça dos Estados e do Distrito Federal e Territórios'"
      ]
     },
     "execution_count": 6,
     "metadata": {},
     "output_type": "execute_result"
    }
   ],
   "execution_count": 6
  }
 ],
 "metadata": {
  "kernelspec": {
   "display_name": "pablocarreira-lastest",
   "language": "python",
   "name": "python3"
  },
  "language_info": {
   "codemirror_mode": {
    "name": "ipython",
    "version": 3
   },
   "file_extension": ".py",
   "mimetype": "text/x-python",
   "name": "python",
   "nbconvert_exporter": "python",
   "pygments_lexer": "ipython3",
   "version": "3.11.10"
  }
 },
 "nbformat": 4,
 "nbformat_minor": 2
}
