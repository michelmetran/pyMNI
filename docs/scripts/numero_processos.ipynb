{
 "cells": [
  {
   "cell_type": "markdown",
   "metadata": {},
   "source": "Inicialmente importamos a biblioteca."
  },
  {
   "metadata": {
    "ExecuteTime": {
     "end_time": "2025-03-24T20:38:07.733713Z",
     "start_time": "2025-03-24T20:38:06.933369Z"
    }
   },
   "cell_type": "code",
   "source": "import mni",
   "outputs": [],
   "execution_count": 1
  },
  {
   "metadata": {},
   "cell_type": "markdown",
   "source": [
    "<br>\n",
    "\n",
    "\n",
    "E instanciamos o objeto `NumeroProcesso`. É possível passar uma _string_ ou um _integer_ com o número do processos."
   ]
  },
  {
   "cell_type": "code",
   "metadata": {
    "ExecuteTime": {
     "end_time": "2025-03-24T20:43:35.244803Z",
     "start_time": "2025-03-24T20:43:35.241058Z"
    }
   },
   "source": "num = mni.NumeroProcesso(numero='1512315-89.2022.8.26.0268')",
   "outputs": [],
   "execution_count": 30
  },
  {
   "metadata": {},
   "cell_type": "markdown",
   "source": [
    "<br>\n",
    "\n",
    "A representação do objeto será a descrição do número."
   ]
  },
  {
   "metadata": {
    "ExecuteTime": {
     "end_time": "2025-03-24T20:43:36.083413Z",
     "start_time": "2025-03-24T20:43:36.078431Z"
    }
   },
   "cell_type": "code",
   "source": "num",
   "outputs": [
    {
     "data": {
      "text/plain": [
       "Processo Judicial nº \"1512315-89.2022.8.26.0268\""
      ]
     },
     "execution_count": 31,
     "metadata": {},
     "output_type": "execute_result"
    }
   ],
   "execution_count": 31
  },
  {
   "metadata": {},
   "cell_type": "markdown",
   "source": [
    "<br>\n",
    "\n",
    "----\n",
    "\n",
    "## Dígito Verificador\n",
    "\n"
   ]
  },
  {
   "metadata": {
    "ExecuteTime": {
     "end_time": "2025-03-24T20:42:17.402073Z",
     "start_time": "2025-03-24T20:42:17.397087Z"
    }
   },
   "cell_type": "code",
   "source": "f'O dígito verificador é {num.check_digito_verificador()}'",
   "outputs": [
    {
     "data": {
      "text/plain": [
       "'O dígito verificador é True'"
      ]
     },
     "execution_count": 19,
     "metadata": {},
     "output_type": "execute_result"
    }
   ],
   "execution_count": 19
  },
  {
   "metadata": {},
   "cell_type": "markdown",
   "source": [
    "<br>\n",
    "\n",
    "-----\n",
    "\n",
    "## Atributos\n",
    "\n",
    "Uma vez instanciado, existem vários atributos do número do processo."
   ]
  },
  {
   "metadata": {
    "ExecuteTime": {
     "end_time": "2025-03-24T20:45:30.864241Z",
     "start_time": "2025-03-24T20:45:30.859849Z"
    }
   },
   "cell_type": "code",
   "source": "f'O número usado no input é \"{num.numero}\", é do tipo {type(num.numero)}'",
   "outputs": [
    {
     "data": {
      "text/plain": [
       "'O número usado no input é \"15123158920228260268\", é do tipo <class \\'str\\'>'"
      ]
     },
     "execution_count": 34,
     "metadata": {},
     "output_type": "execute_result"
    }
   ],
   "execution_count": 34
  },
  {
   "metadata": {
    "ExecuteTime": {
     "end_time": "2025-03-24T20:45:31.668974Z",
     "start_time": "2025-03-24T20:45:31.663705Z"
    }
   },
   "cell_type": "code",
   "source": "f'O número formatado é \"{num.formatado}\", é do tipo {type(num.formatado)}'",
   "outputs": [
    {
     "data": {
      "text/plain": [
       "'O número formatado é \"1512315-89.2022.8.26.0268\", é do tipo <class \\'str\\'>'"
      ]
     },
     "execution_count": 35,
     "metadata": {},
     "output_type": "execute_result"
    }
   ],
   "execution_count": 35
  },
  {
   "metadata": {
    "ExecuteTime": {
     "end_time": "2025-03-24T20:45:32.201371Z",
     "start_time": "2025-03-24T20:45:32.195776Z"
    }
   },
   "cell_type": "code",
   "source": "f'O número em formato texto é \"{num.texto}\", é do tipo {type(num.texto)}'",
   "outputs": [
    {
     "data": {
      "text/plain": [
       "'O número em formato texto é \"15123158920228260268\", é do tipo <class \\'str\\'>'"
      ]
     },
     "execution_count": 36,
     "metadata": {},
     "output_type": "execute_result"
    }
   ],
   "execution_count": 36
  },
  {
   "metadata": {
    "ExecuteTime": {
     "end_time": "2025-03-24T20:45:32.388291Z",
     "start_time": "2025-03-24T20:45:32.383277Z"
    }
   },
   "cell_type": "code",
   "source": "f'O número inteiro é \"{num.inteiro}\", é do tipo {type(num.inteiro)}'",
   "outputs": [
    {
     "data": {
      "text/plain": [
       "'O número inteiro é \"15123158920228260268\", é do tipo <class \\'int\\'>'"
      ]
     },
     "execution_count": 37,
     "metadata": {},
     "output_type": "execute_result"
    }
   ],
   "execution_count": 37
  },
  {
   "metadata": {},
   "cell_type": "markdown",
   "source": "A diferença entre os atributos `num.inteiro` e `num.texto` ocorre apenas nos processos que inicial com zero."
  },
  {
   "metadata": {},
   "cell_type": "markdown",
   "source": [
    "<br>\n",
    "\n",
    "----\n",
    "\n",
    "## Decompondo o Número"
   ]
  },
  {
   "metadata": {
    "ExecuteTime": {
     "end_time": "2025-03-24T20:42:34.983418Z",
     "start_time": "2025-03-24T20:42:34.977098Z"
    }
   },
   "cell_type": "code",
   "source": "f'O número sequencial é \"{num.sequencial}\"'",
   "outputs": [
    {
     "data": {
      "text/plain": [
       "'O número sequencial é \"1512315\"'"
      ]
     },
     "execution_count": 23,
     "metadata": {},
     "output_type": "execute_result"
    }
   ],
   "execution_count": 23
  },
  {
   "metadata": {
    "ExecuteTime": {
     "end_time": "2025-03-24T20:42:38.366104Z",
     "start_time": "2025-03-24T20:42:38.362103Z"
    }
   },
   "cell_type": "code",
   "source": "f'O dígito verificador é \"{num.dv}\"'",
   "outputs": [
    {
     "data": {
      "text/plain": [
       "'O dígito verificador é \"89\"'"
      ]
     },
     "execution_count": 24,
     "metadata": {},
     "output_type": "execute_result"
    }
   ],
   "execution_count": 24
  },
  {
   "metadata": {
    "ExecuteTime": {
     "end_time": "2025-03-24T20:42:43.717928Z",
     "start_time": "2025-03-24T20:42:43.711416Z"
    }
   },
   "cell_type": "code",
   "source": "f'O ano é \"{num.ano}\"'",
   "outputs": [
    {
     "data": {
      "text/plain": [
       "'O ano é \"2022\"'"
      ]
     },
     "execution_count": 25,
     "metadata": {},
     "output_type": "execute_result"
    }
   ],
   "execution_count": 25
  },
  {
   "metadata": {
    "ExecuteTime": {
     "end_time": "2025-03-24T20:42:47.335644Z",
     "start_time": "2025-03-24T20:42:47.330414Z"
    }
   },
   "cell_type": "code",
   "source": "f'O id_orgao é \"{num.id_orgao}\" e \"{num.orgao}\"'",
   "outputs": [
    {
     "data": {
      "text/plain": [
       "'O id_orgao é \"8\" e \"Justiça dos Estados e do Distrito Federal e Territórios\"'"
      ]
     },
     "execution_count": 26,
     "metadata": {},
     "output_type": "execute_result"
    }
   ],
   "execution_count": 26
  },
  {
   "metadata": {
    "ExecuteTime": {
     "end_time": "2025-03-24T20:42:51.056587Z",
     "start_time": "2025-03-24T20:42:51.050118Z"
    }
   },
   "cell_type": "code",
   "source": "f'O id_tribunal é \"{num.id_tribunal}\" e \"{num.tribunal}\"'",
   "outputs": [
    {
     "data": {
      "text/plain": [
       "'O id_tribunal é \"26\" e \"Tribunal de Justiça de São Paulo\"'"
      ]
     },
     "execution_count": 27,
     "metadata": {},
     "output_type": "execute_result"
    }
   ],
   "execution_count": 27
  },
  {
   "metadata": {
    "ExecuteTime": {
     "end_time": "2025-03-24T20:42:54.631725Z",
     "start_time": "2025-03-24T20:42:54.626470Z"
    }
   },
   "cell_type": "code",
   "source": "f'O id_unidade_origem é \"{num.id_unidade_origem}\"'",
   "outputs": [
    {
     "data": {
      "text/plain": [
       "'O id_unidade_origem é \"268\"'"
      ]
     },
     "execution_count": 28,
     "metadata": {},
     "output_type": "execute_result"
    }
   ],
   "execution_count": 28
  }
 ],
 "metadata": {
  "kernelspec": {
   "display_name": "pablocarreira-lastest",
   "language": "python",
   "name": "python3"
  },
  "language_info": {
   "codemirror_mode": {
    "name": "ipython",
    "version": 3
   },
   "file_extension": ".py",
   "mimetype": "text/x-python",
   "name": "python",
   "nbconvert_exporter": "python",
   "pygments_lexer": "ipython3",
   "version": "3.11.10"
  }
 },
 "nbformat": 4,
 "nbformat_minor": 2
}
