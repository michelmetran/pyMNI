{
 "cells": [
  {
   "cell_type": "markdown",
   "metadata": {},
   "source": [
    "[![Open In Colab](https://colab.research.google.com/assets/colab-badge.svg)](https://colab.research.google.com/github/michelmetran/pyMNI/blob/main/docs/scripts/numero_processos.ipynb)\n",
    "\n",
    "Caso queira testar o _notebook_, basta usar o [_Google Colab_](https://colab.research.google.com/), clicando no _badge_ acima."
   ]
  },
  {
   "cell_type": "code",
   "execution_count": null,
   "metadata": {},
   "outputs": [],
   "source": [
    "!pip3 install mni --upgrade"
   ]
  },
  {
   "cell_type": "markdown",
   "metadata": {},
   "source": [
    "Inicialmente importamos a biblioteca."
   ]
  },
  {
   "cell_type": "code",
   "execution_count": null,
   "metadata": {
    "ExecuteTime": {
     "end_time": "2025-03-24T20:38:07.733713Z",
     "start_time": "2025-03-24T20:38:06.933369Z"
    }
   },
   "outputs": [],
   "source": [
    "import mni"
   ]
  },
  {
   "cell_type": "markdown",
   "metadata": {},
   "source": [
    "<br>\n",
    "\n",
    "E instanciamos o objeto `NumeroProcesso`. É possível passar uma _string_ ou um _integer_ com o número do processos.\n"
   ]
  },
  {
   "cell_type": "code",
   "execution_count": null,
   "metadata": {
    "ExecuteTime": {
     "end_time": "2025-03-24T20:43:35.244803Z",
     "start_time": "2025-03-24T20:43:35.241058Z"
    }
   },
   "outputs": [],
   "source": [
    "num = mni.NumeroProcesso(numero='1512315-89.2022.8.26.0268')"
   ]
  },
  {
   "cell_type": "markdown",
   "metadata": {},
   "source": [
    "<br>\n",
    "\n",
    "A representação do objeto será a descrição do número.\n"
   ]
  },
  {
   "cell_type": "code",
   "execution_count": null,
   "metadata": {
    "ExecuteTime": {
     "end_time": "2025-03-24T20:43:36.083413Z",
     "start_time": "2025-03-24T20:43:36.078431Z"
    }
   },
   "outputs": [],
   "source": [
    "num"
   ]
  },
  {
   "cell_type": "markdown",
   "metadata": {},
   "source": [
    "<br>\n",
    "\n",
    "---\n",
    "\n",
    "## Dígito Verificador\n"
   ]
  },
  {
   "cell_type": "code",
   "execution_count": null,
   "metadata": {
    "ExecuteTime": {
     "end_time": "2025-03-24T20:42:17.402073Z",
     "start_time": "2025-03-24T20:42:17.397087Z"
    }
   },
   "outputs": [],
   "source": [
    "f'O dígito verificador é {num.check_digito_verificador()}'"
   ]
  },
  {
   "cell_type": "markdown",
   "metadata": {},
   "source": [
    "<br>\n",
    "\n",
    "---\n",
    "\n",
    "## Atributos\n",
    "\n",
    "Uma vez instanciado, existem vários atributos do número do processo.\n"
   ]
  },
  {
   "cell_type": "code",
   "execution_count": null,
   "metadata": {
    "ExecuteTime": {
     "end_time": "2025-03-24T20:45:30.864241Z",
     "start_time": "2025-03-24T20:45:30.859849Z"
    }
   },
   "outputs": [],
   "source": [
    "f'O número usado no input é \"{num.numero}\", é do tipo {type(num.numero)}'"
   ]
  },
  {
   "cell_type": "code",
   "execution_count": null,
   "metadata": {
    "ExecuteTime": {
     "end_time": "2025-03-24T20:45:31.668974Z",
     "start_time": "2025-03-24T20:45:31.663705Z"
    }
   },
   "outputs": [],
   "source": [
    "f'O número formatado é \"{num.formatado}\", é do tipo {type(num.formatado)}'"
   ]
  },
  {
   "cell_type": "code",
   "execution_count": null,
   "metadata": {
    "ExecuteTime": {
     "end_time": "2025-03-24T20:45:32.201371Z",
     "start_time": "2025-03-24T20:45:32.195776Z"
    }
   },
   "outputs": [],
   "source": [
    "f'O número em formato texto é \"{num.texto}\", é do tipo {type(num.texto)}'"
   ]
  },
  {
   "cell_type": "code",
   "execution_count": null,
   "metadata": {
    "ExecuteTime": {
     "end_time": "2025-03-24T20:45:32.388291Z",
     "start_time": "2025-03-24T20:45:32.383277Z"
    }
   },
   "outputs": [],
   "source": [
    "f'O número inteiro é \"{num.inteiro}\", é do tipo {type(num.inteiro)}'"
   ]
  },
  {
   "cell_type": "markdown",
   "metadata": {},
   "source": [
    "A diferença entre os atributos `num.inteiro` e `num.texto` ocorre apenas nos processos que inicial com zero.\n"
   ]
  },
  {
   "cell_type": "markdown",
   "metadata": {},
   "source": [
    "<br>\n",
    "\n",
    "---\n",
    "\n",
    "## Decompondo o Número\n"
   ]
  },
  {
   "cell_type": "code",
   "execution_count": null,
   "metadata": {
    "ExecuteTime": {
     "end_time": "2025-03-24T20:42:34.983418Z",
     "start_time": "2025-03-24T20:42:34.977098Z"
    }
   },
   "outputs": [],
   "source": [
    "f'O número sequencial é \"{num.sequencial}\"'"
   ]
  },
  {
   "cell_type": "code",
   "execution_count": null,
   "metadata": {
    "ExecuteTime": {
     "end_time": "2025-03-24T20:42:38.366104Z",
     "start_time": "2025-03-24T20:42:38.362103Z"
    }
   },
   "outputs": [],
   "source": [
    "f'O dígito verificador é \"{num.dv}\"'"
   ]
  },
  {
   "cell_type": "code",
   "execution_count": null,
   "metadata": {
    "ExecuteTime": {
     "end_time": "2025-03-24T20:42:43.717928Z",
     "start_time": "2025-03-24T20:42:43.711416Z"
    }
   },
   "outputs": [],
   "source": [
    "f'O ano é \"{num.ano}\"'"
   ]
  },
  {
   "cell_type": "code",
   "execution_count": null,
   "metadata": {
    "ExecuteTime": {
     "end_time": "2025-03-24T20:42:47.335644Z",
     "start_time": "2025-03-24T20:42:47.330414Z"
    }
   },
   "outputs": [],
   "source": [
    "f'O id_orgao é \"{num.id_orgao}\" e \"{num.orgao}\"'"
   ]
  },
  {
   "cell_type": "code",
   "execution_count": null,
   "metadata": {
    "ExecuteTime": {
     "end_time": "2025-03-24T20:42:51.056587Z",
     "start_time": "2025-03-24T20:42:51.050118Z"
    }
   },
   "outputs": [],
   "source": [
    "f'O id_tribunal é \"{num.id_tribunal}\" e \"{num.tribunal}\"'"
   ]
  },
  {
   "cell_type": "code",
   "execution_count": null,
   "metadata": {
    "ExecuteTime": {
     "end_time": "2025-03-24T20:42:54.631725Z",
     "start_time": "2025-03-24T20:42:54.626470Z"
    }
   },
   "outputs": [],
   "source": [
    "f'O id_unidade_origem é \"{num.id_unidade_origem}\"'"
   ]
  }
 ],
 "metadata": {
  "kernelspec": {
   "display_name": "mni-nwdXWijO-py3.12",
   "language": "python",
   "name": "python3"
  },
  "language_info": {
   "codemirror_mode": {
    "name": "ipython",
    "version": 3
   },
   "file_extension": ".py",
   "mimetype": "text/x-python",
   "name": "python",
   "nbconvert_exporter": "python",
   "pygments_lexer": "ipython3",
   "version": "3.12.3"
  }
 },
 "nbformat": 4,
 "nbformat_minor": 2
}
