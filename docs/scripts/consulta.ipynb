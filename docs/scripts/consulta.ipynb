{
 "cells": [
  {
   "cell_type": "markdown",
   "metadata": {},
   "source": [
    "[![Open In Colab](https://colab.research.google.com/assets/colab-badge.svg)](https://colab.research.google.com/github/michelmetran/pyMNI/blob/main/docs/scripts/consulta.ipynb)\n",
    "\n",
    "Caso queira testar o _notebook_, basta usar o [_Google Colab_](https://colab.research.google.com/), clicando no _badge_ acima."
   ]
  },
  {
   "cell_type": "code",
   "execution_count": null,
   "metadata": {
    "tags": [
     "hide_code"
    ]
   },
   "outputs": [],
   "source": [
    "!pip3 install mni --upgrade"
   ]
  },
  {
   "cell_type": "markdown",
   "metadata": {},
   "source": [
    "Inicialmente importamos a biblioteca.\n"
   ]
  },
  {
   "cell_type": "code",
   "execution_count": null,
   "metadata": {},
   "outputs": [],
   "source": [
    "import os\n",
    "\n",
    "from dotenv import load_dotenv\n",
    "\n",
    "import mni"
   ]
  },
  {
   "cell_type": "markdown",
   "metadata": {},
   "source": [
    "<br>\n",
    "\n",
    "---\n",
    "\n",
    "## Credenciais\n",
    "\n",
    "As credenciais necessárias para usar o MNI são obtidas em um arquivo `.env`, com o seguinte conteúdo:\n",
    "\n",
    "```shell\n",
    "TJSP_MNI_USERNAME = '****************'\n",
    "TJSP_MNI_PASSWORD = '****************'\n",
    "```\n",
    "\n",
    "<br>\n",
    "\n",
    "É possível também passar as credenciais diretamente na chamada do método.\n"
   ]
  },
  {
   "cell_type": "code",
   "execution_count": null,
   "metadata": {
    "ExecuteTime": {
     "end_time": "2025-03-24T20:48:18.885149Z",
     "start_time": "2025-03-24T20:48:18.880005Z"
    }
   },
   "outputs": [],
   "source": [
    "# Credenciais\n",
    "load_dotenv()\n",
    "TJSP_MNI_USERNAME = os.getenv('TJSP_MNI_USERNAME')\n",
    "TJSP_MNI_PASSWORD = os.getenv('TJSP_MNI_PASSWORD')"
   ]
  },
  {
   "cell_type": "markdown",
   "metadata": {},
   "source": [
    "<br>\n",
    "\n",
    "---\n",
    "\n",
    "## Objeto WSDL\n",
    "\n",
    "O pacote `mni` tem o objeto `WSDL` que permite ver os métodos/funções que o _web service_ disponibiliza.\n"
   ]
  },
  {
   "cell_type": "code",
   "execution_count": null,
   "metadata": {
    "ExecuteTime": {
     "end_time": "2025-03-24T20:48:19.085528Z",
     "start_time": "2025-03-24T20:48:18.894293Z"
    }
   },
   "outputs": [],
   "source": [
    "# MNI TJSP\n",
    "api = mni.WSDL(username=TJSP_MNI_USERNAME, password=TJSP_MNI_PASSWORD)\n",
    "\n",
    "# Resultados\n",
    "resultado = api.get_infos()\n",
    "resultado"
   ]
  },
  {
   "cell_type": "markdown",
   "metadata": {},
   "source": [
    "<br>\n",
    "\n",
    "E também é possível obter as operações disponíveis no _web service_.\n"
   ]
  },
  {
   "cell_type": "code",
   "execution_count": null,
   "metadata": {
    "ExecuteTime": {
     "end_time": "2025-03-24T20:48:19.138450Z",
     "start_time": "2025-03-24T20:48:19.133112Z"
    }
   },
   "outputs": [],
   "source": [
    "resultado = api.get_operations()\n",
    "resultado"
   ]
  },
  {
   "cell_type": "markdown",
   "metadata": {},
   "source": [
    "<br>\n",
    "\n",
    "---\n",
    "\n",
    "## Exemplo de Chamada\n",
    "\n",
    "Inicialmente instanciamos o número do processo:\n"
   ]
  },
  {
   "cell_type": "code",
   "execution_count": null,
   "metadata": {
    "ExecuteTime": {
     "end_time": "2025-03-24T20:48:19.183099Z",
     "start_time": "2025-03-24T20:48:19.178284Z"
    }
   },
   "outputs": [],
   "source": [
    "num = mni.NumeroProcesso(numero='1512315-89.2022.8.26.0268')\n",
    "num"
   ]
  },
  {
   "cell_type": "markdown",
   "metadata": {},
   "source": [
    "<br>\n",
    "\n",
    "E depois fazemos a chamada da API.\n"
   ]
  },
  {
   "cell_type": "code",
   "execution_count": null,
   "metadata": {
    "ExecuteTime": {
     "end_time": "2025-03-24T20:48:19.522190Z",
     "start_time": "2025-03-24T20:48:19.257700Z"
    }
   },
   "outputs": [],
   "source": [
    "resultado = api.request(\n",
    "    method='consultar_processo',\n",
    "    idConsultante=TJSP_MNI_USERNAME,\n",
    "    senhaConsultante=TJSP_MNI_PASSWORD,\n",
    "    numeroProcesso=num.inteiro,\n",
    "    param_print=False,\n",
    "    params_ignore=[\n",
    "        'dataReferencia',\n",
    "        'movimentos',\n",
    "        'incluirCabecalho',\n",
    "        'incluirDocumentos',\n",
    "        'documento',\n",
    "    ],\n",
    ")"
   ]
  },
  {
   "cell_type": "markdown",
   "metadata": {},
   "source": [
    "<br>\n",
    "\n",
    "O resultado é mostrado abaixo."
   ]
  },
  {
   "cell_type": "code",
   "execution_count": null,
   "metadata": {},
   "outputs": [],
   "source": [
    "resultado"
   ]
  }
 ],
 "metadata": {
  "kernelspec": {
   "display_name": "mni-nwdXWijO-py3.12",
   "language": "python",
   "name": "python3"
  },
  "language_info": {
   "codemirror_mode": {
    "name": "ipython",
    "version": 3
   },
   "file_extension": ".py",
   "mimetype": "text/x-python",
   "name": "python",
   "nbconvert_exporter": "python",
   "pygments_lexer": "ipython3",
   "version": "3.12.3"
  }
 },
 "nbformat": 4,
 "nbformat_minor": 2
}
